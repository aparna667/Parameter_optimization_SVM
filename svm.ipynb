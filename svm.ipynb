import pandas as pd
import numpy as np 

df = pd.read_csv('letter-recognition.data')
df.columns = ['target_letter' ,'x-box','y-box','width','high','onpix','x-bar','y-bar','x2bar','y2bar','xybar','x2ybr','xy2br','x-ege','xegvy','y-ege','yegvx']
df

from sklearn.model_selection import train_test_split,GridSearchCV
from sklearn.metrics import accuracy_score
from sklearn.preprocessing import StandardScaler
from sklearn.svm import SVC
import matplotlib.pyplot as plt

X_train,X_test,y_train,y_test = train_test_split(df.drop(columns=['target_letter'],axis=1) , df['target_letter'],test_size=0.3,random_state=42)

X_train

y_train


from sklearn.preprocessing import MinMaxScaler,StandardScaler
bestAccuracy = 0
parameters = []
accuracies = []
num_samples = 10

for i in range(num_samples):
  sample_df = df.sample(frac = 0.3,replace =False)
  
  X_train,X_test,y_train,y_test = train_test_split(sample_df.drop(columns=['target_letter'],axis=1) , sample_df['target_letter'],test_size=0.3,random_state=42)
  X_train = StandardScaler().fit_transform(X_train)
  X_test = StandardScaler().fit_transform(X_test)
  param_grid = { 
                'C':[1,10,100],
                'kernel':['rbf', 'poly','sigmoid'],
                'gamma': [1e-2, 1e-3, 1e-4]
                }
  #grid = SVC(kernel='sigmoid',C=100.0,degree=4,gamma=0.1)
  grid = GridSearchCV(SVC(max_iter=10), 
                        param_grid = param_grid, 
                        scoring= 'accuracy', 
                        verbose = 1,
                        return_train_score=True,n_jobs=-1)
  grid.fit(X_train, y_train)  
  y_pred = grid.predict(X_test)
  print(grid.best_params_)
  print(grid.best_estimator_)
  print('Sample {}'.format(i+1))
  print('Accuracy = {}\n'.format(accuracy_score(y_test, y_pred))) 
  
  accuracies.append(accuracy_score(y_test, y_pred))
  parameters.append(grid.best_params_)

  acc = accuracy_score(y_test,y_pred)
  
  if acc > bestAccuracy:
      bestAccuracy = acc
      best_params = grid.best_params_
      best_model = grid.best_estimator_
      best_sample_df = sample_df
     

result = pd.DataFrame({'Accuracy': accuracies, 'Parameters': parameters})
result


print(bestAccuracy)
print(best_params)
print(best_model)
best_sample_df.head()

iter=[]
accuracies = []
X_train, X_test, y_train, y_test = train_test_split(best_sample_df.drop('target_letter', axis=1), best_sample_df.target_letter, test_size=0.4, random_state=42, stratify=best_sample_df.target_letter)
X_train = StandardScaler().fit_transform(X_train)
X_test = StandardScaler().fit_transform(X_test)

for i in range(100):
    x = i+1
    param_grid = { 
                'C':[1,10,100],
                'kernel':['rbf', 'poly','sigmoid'],
                'gamma': [1e-2, 1e-3, 1e-4]
                }
  #grid = SVC(kernel='sigmoid',C=100.0,degree=4,gamma=0.1)
    grid = GridSearchCV(SVC(max_iter=10), 
                        param_grid = param_grid, 
                        scoring= 'accuracy', 
                        verbose = 1,
                        return_train_score=True,n_jobs=-1)
    grid.fit(X_train, y_train)  
    y_pred = grid.predict(X_test)
    accuracy = accuracy_score(y_test, y_pred)
    accuracies.append(accuracy)
    iter.append(x)

iter = np.array(iter)
accuracies = np.array(accuracies)


plt.plot(iter,accuracies)
result.to_csv('results.csv',index=False)
